{
 "cells": [
  {
   "cell_type": "code",
   "execution_count": 1,
   "id": "f4cecd25",
   "metadata": {},
   "outputs": [
    {
     "name": "stdout",
     "output_type": "stream",
     "text": [
      "Defaulting to user installation because normal site-packages is not writeable\n",
      "Requirement already satisfied: numpy in c:\\programdata\\anaconda3\\lib\\site-packages (1.24.3)\n"
     ]
    },
    {
     "name": "stderr",
     "output_type": "stream",
     "text": [
      "DEPRECATION: Loading egg at c:\\programdata\\anaconda3\\lib\\site-packages\\vboxapi-1.0-py3.11.egg is deprecated. pip 23.3 will enforce this behaviour change. A possible replacement is to use pip for package installation..\n",
      "DEPRECATION: Loading egg at c:\\programdata\\anaconda3\\lib\\site-packages\\vboxapi-1.0-py3.11.egg is deprecated. pip 23.3 will enforce this behaviour change. A possible replacement is to use pip for package installation..\n"
     ]
    },
    {
     "name": "stdout",
     "output_type": "stream",
     "text": [
      "Defaulting to user installation because normal site-packages is not writeable\n",
      "Requirement already satisfied: matplotlib in c:\\programdata\\anaconda3\\lib\\site-packages (3.7.1)\n",
      "Requirement already satisfied: contourpy>=1.0.1 in c:\\programdata\\anaconda3\\lib\\site-packages (from matplotlib) (1.0.5)\n",
      "Requirement already satisfied: cycler>=0.10 in c:\\programdata\\anaconda3\\lib\\site-packages (from matplotlib) (0.11.0)\n",
      "Requirement already satisfied: fonttools>=4.22.0 in c:\\programdata\\anaconda3\\lib\\site-packages (from matplotlib) (4.25.0)\n",
      "Requirement already satisfied: kiwisolver>=1.0.1 in c:\\programdata\\anaconda3\\lib\\site-packages (from matplotlib) (1.4.4)\n",
      "Requirement already satisfied: numpy>=1.20 in c:\\programdata\\anaconda3\\lib\\site-packages (from matplotlib) (1.24.3)\n",
      "Requirement already satisfied: packaging>=20.0 in c:\\programdata\\anaconda3\\lib\\site-packages (from matplotlib) (23.0)\n",
      "Requirement already satisfied: pillow>=6.2.0 in c:\\programdata\\anaconda3\\lib\\site-packages (from matplotlib) (9.4.0)\n",
      "Requirement already satisfied: pyparsing>=2.3.1 in c:\\programdata\\anaconda3\\lib\\site-packages (from matplotlib) (3.0.9)\n",
      "Requirement already satisfied: python-dateutil>=2.7 in c:\\programdata\\anaconda3\\lib\\site-packages (from matplotlib) (2.8.2)\n",
      "Requirement already satisfied: six>=1.5 in c:\\programdata\\anaconda3\\lib\\site-packages (from python-dateutil>=2.7->matplotlib) (1.16.0)\n",
      "0.2139\n",
      "0.14026\n"
     ]
    }
   ],
   "source": [
    "\n",
    "!pip install numpy\n",
    "!pip install matplotlib\n",
    "import numpy as np\n",
    "import matplotlib.pyplot as plt\n",
    "\n",
    "n=100000 #numero de simulacoes\n",
    "x0=[0.40,0.60]# vetor de probabilidade inicial\n",
    "probabilidades_transicao = [[0, 0.50, 0.50, 0, 0, 0],[0.50, 0, 0, 0.50, 0, 0],[0.33, 0, 0, 0.33, 0.33, 0],[0, 0.33, 0.33, 0, 0, 0.33],[0, 0, 0.50, 0, 0, 0.50],[0, 0, 0, 0, 0, 1]] # matriz de transicao de um passo\n",
    "chain2 = np.zeros(n,int) #vetor para armazenar os estados no passo escolhido, passo 0 estado inicial, passo 1 uma transicao, ...\n",
    "passo=3\n",
    "for j in np.arange(0,n,1):\n",
    "\n",
    "    r1 = np.random.uniform(0,1) #geracao de varivel uniforme para escolha do vallor inicial\n",
    "    acumulada = np.cumsum(x0) #gera um vetor [x1,x1+x2,...,1]\n",
    "    valor_inicial = np.argmax(acumulada>r1) #aplica o método de geracao baseado na CDF\n",
    "    chain_length = 20 #numero de transicoes na cadeia, tem que ser maior que o passo escolhido.\n",
    "    chain = np.zeros(chain_length,int) #vetor que vai armazenar todas as transicoes feitas na cadeia\n",
    "    chain[0]=valor_inicial\n",
    "\n",
    "    for i in np.arange(1,chain_length,1):\n",
    "        Linha_atual = probabilidades_transicao[chain[i-1]]#pega a linha referente ao estado atual\n",
    "        acumulada = np.cumsum(Linha_atual)\n",
    "        r = np.random.uniform(0,1)\n",
    "        chain[i] = np.argmax(acumulada>r)#aplica o método de geracao baseado na CDF\n",
    "\n",
    "    chain2[j] =chain[passo]#armazena o estado no passo em chain2\n",
    "\n",
    "#calculo de estatisticas por monte carlo\n",
    "prob1=np.sum(chain2==0)/n\n",
    "prob2=np.sum(chain2==1)/n\n",
    "print(prob1)\n",
    "print(prob2)"
   ]
  },
  {
   "cell_type": "code",
   "execution_count": null,
   "id": "d723c60f",
   "metadata": {},
   "outputs": [],
   "source": []
  }
 ],
 "metadata": {
  "kernelspec": {
   "display_name": "Python 3 (ipykernel)",
   "language": "python",
   "name": "python3"
  },
  "language_info": {
   "codemirror_mode": {
    "name": "ipython",
    "version": 3
   },
   "file_extension": ".py",
   "mimetype": "text/x-python",
   "name": "python",
   "nbconvert_exporter": "python",
   "pygments_lexer": "ipython3",
   "version": "3.11.4"
  }
 },
 "nbformat": 4,
 "nbformat_minor": 5
}
